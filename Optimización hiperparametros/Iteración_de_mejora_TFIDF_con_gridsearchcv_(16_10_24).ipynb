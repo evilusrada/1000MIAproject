{
  "cells": [
    {
      "cell_type": "code",
      "execution_count": null,
      "metadata": {
        "collapsed": true,
        "id": "JJnnqgshdv35"
      },
      "outputs": [],
      "source": [
        "# Importar e instalar dependencias\n",
        "import pandas as pd\n",
        "import numpy as np\n",
        "import re\n",
        "from collections import Counter"
      ]
    },
    {
      "cell_type": "markdown",
      "metadata": {
        "id": "WSG-vt26dq8h"
      },
      "source": [
        "# CARGA DE DATOS"
      ]
    },
    {
      "cell_type": "code",
      "execution_count": null,
      "metadata": {
        "colab": {
          "base_uri": "https://localhost:8080/"
        },
        "id": "hItISHlWd33J",
        "outputId": "a33e7015-eab7-4046-bb6b-6d19a2b8cbc9"
      },
      "outputs": [
        {
          "name": "stdout",
          "output_type": "stream",
          "text": [
            "Requirement already satisfied: gdown in /usr/local/lib/python3.10/dist-packages (5.2.0)\n",
            "Requirement already satisfied: beautifulsoup4 in /usr/local/lib/python3.10/dist-packages (from gdown) (4.12.3)\n",
            "Requirement already satisfied: filelock in /usr/local/lib/python3.10/dist-packages (from gdown) (3.16.1)\n",
            "Requirement already satisfied: requests[socks] in /usr/local/lib/python3.10/dist-packages (from gdown) (2.32.3)\n",
            "Requirement already satisfied: tqdm in /usr/local/lib/python3.10/dist-packages (from gdown) (4.66.5)\n",
            "Requirement already satisfied: soupsieve>1.2 in /usr/local/lib/python3.10/dist-packages (from beautifulsoup4->gdown) (2.6)\n",
            "Requirement already satisfied: charset-normalizer<4,>=2 in /usr/local/lib/python3.10/dist-packages (from requests[socks]->gdown) (3.3.2)\n",
            "Requirement already satisfied: idna<4,>=2.5 in /usr/local/lib/python3.10/dist-packages (from requests[socks]->gdown) (3.10)\n",
            "Requirement already satisfied: urllib3<3,>=1.21.1 in /usr/local/lib/python3.10/dist-packages (from requests[socks]->gdown) (2.2.3)\n",
            "Requirement already satisfied: certifi>=2017.4.17 in /usr/local/lib/python3.10/dist-packages (from requests[socks]->gdown) (2024.8.30)\n",
            "Requirement already satisfied: PySocks!=1.5.7,>=1.5.6 in /usr/local/lib/python3.10/dist-packages (from requests[socks]->gdown) (1.7.1)\n",
            "/usr/local/lib/python3.10/dist-packages/gdown/__main__.py:140: FutureWarning: Option `--id` was deprecated in version 4.3.1 and will be removed in 5.0. You don't need to pass it anymore to use a file ID.\n",
            "  warnings.warn(\n",
            "Downloading...\n",
            "From (original): https://drive.google.com/uc?id=1LkEJ3rstkdyhUGWi9O2YKQMe0wC_ZyDd\n",
            "From (redirected): https://drive.google.com/uc?id=1LkEJ3rstkdyhUGWi9O2YKQMe0wC_ZyDd&confirm=t&uuid=797c9d85-4a43-4911-b127-a7be73b369ec\n",
            "To: /content/Suicide_Detection.csv\n",
            "100% 167M/167M [00:02<00:00, 65.2MB/s]\n"
          ]
        }
      ],
      "source": [
        "!pip install gdown\n",
        "# Descarga el archivo del dataset de drive usando gdown\n",
        "url = 'https://drive.google.com/file/d/1LkEJ3rstkdyhUGWi9O2YKQMe0wC_ZyDd/view?usp=sharing'\n",
        "file_id = url.split('/')[-2]\n",
        "!gdown --id $file_id\n",
        "\n",
        "# Carga el dataset usando pandas\n",
        "sd = pd.read_csv('/content/Suicide_Detection.csv')"
      ]
    },
    {
      "cell_type": "code",
      "execution_count": null,
      "metadata": {
        "id": "cNiankLcO2v-"
      },
      "outputs": [],
      "source": [
        "# Sampleo de data para agilizar el testeo del código\n",
        "sd = sd.sample(n=10000, random_state=42)"
      ]
    },
    {
      "cell_type": "markdown",
      "metadata": {
        "id": "4Ql_eMf_Z6HI"
      },
      "source": [
        "# MODELADO, ENTRENAMIENTO Y EVALUACIÓN"
      ]
    },
    {
      "cell_type": "code",
      "execution_count": null,
      "metadata": {
        "id": "qn8i7ejUelLM"
      },
      "outputs": [],
      "source": [
        "#Copia del dataset limpio (pre_processed)\n",
        "pre_processed = sd.copy()"
      ]
    },
    {
      "cell_type": "code",
      "execution_count": null,
      "metadata": {
        "colab": {
          "base_uri": "https://localhost:8080/"
        },
        "id": "XSrvpZYyhGV2",
        "outputId": "4a333e20-c9a4-4d2f-a9e5-dfe1f1d0b117"
      },
      "outputs": [
        {
          "name": "stdout",
          "output_type": "stream",
          "text": [
            "Training data:  8000\n",
            "Testing data:  2000\n"
          ]
        }
      ],
      "source": [
        "from sklearn.model_selection import train_test_split\n",
        "\n",
        "# Separación de dataset en training y testing\n",
        "train_data ,test_data = train_test_split(pre_processed,test_size=0.2,random_state=10)\n",
        "\n",
        "print('Training data: ',len(train_data))\n",
        "print('Testing data: ',len(test_data))\n"
      ]
    },
    {
      "cell_type": "markdown",
      "metadata": {
        "id": "ZiGFVk0zoy-4"
      },
      "source": [
        "### Modelo de regresión logística basado en TFIDF"
      ]
    },
    {
      "cell_type": "code",
      "execution_count": null,
      "metadata": {
        "id": "kyJ2YPxOIdWg"
      },
      "outputs": [],
      "source": [
        "from sklearn.feature_extraction.text import CountVectorizer, TfidfVectorizer\n",
        "from sklearn.linear_model import LogisticRegression\n",
        "from sklearn.metrics import accuracy_score, precision_score, classification_report, recall_score, f1_score, confusion_matrix,  classification_report\n",
        "import pandas as pd\n",
        "\n",
        "# TF-IDF\n",
        "vectorizer_tfidf = TfidfVectorizer(max_df=0.95, min_df=2, ngram_range=(1, 2))\n",
        "X_tfidf_train = vectorizer_tfidf.fit_transform(train_data['text'])\n",
        "X_tfidf_test = vectorizer_tfidf.transform(test_data['text'])"
      ]
    },
    {
      "cell_type": "code",
      "execution_count": null,
      "metadata": {
        "colab": {
          "base_uri": "https://localhost:8080/"
        },
        "id": "iclkMYybo2ku",
        "outputId": "81f5c0d7-5de6-463f-e73f-faf68881426a"
      },
      "outputs": [
        {
          "name": "stderr",
          "output_type": "stream",
          "text": [
            "/usr/local/lib/python3.10/dist-packages/sklearn/model_selection/_validation.py:540: FitFailedWarning: \n",
            "180 fits failed out of a total of 600.\n",
            "The score on these train-test partitions for these parameters will be set to nan.\n",
            "If these failures are not expected, you can try to debug them by setting error_score='raise'.\n",
            "\n",
            "Below are more details about the failures:\n",
            "--------------------------------------------------------------------------------\n",
            "60 fits failed with the following error:\n",
            "Traceback (most recent call last):\n",
            "  File \"/usr/local/lib/python3.10/dist-packages/sklearn/model_selection/_validation.py\", line 888, in _fit_and_score\n",
            "    estimator.fit(X_train, y_train, **fit_params)\n",
            "  File \"/usr/local/lib/python3.10/dist-packages/sklearn/base.py\", line 1473, in wrapper\n",
            "    return fit_method(estimator, *args, **kwargs)\n",
            "  File \"/usr/local/lib/python3.10/dist-packages/sklearn/linear_model/_logistic.py\", line 1194, in fit\n",
            "    solver = _check_solver(self.solver, self.penalty, self.dual)\n",
            "  File \"/usr/local/lib/python3.10/dist-packages/sklearn/linear_model/_logistic.py\", line 67, in _check_solver\n",
            "    raise ValueError(\n",
            "ValueError: Solver newton-cg supports only 'l2' or None penalties, got l1 penalty.\n",
            "\n",
            "--------------------------------------------------------------------------------\n",
            "60 fits failed with the following error:\n",
            "Traceback (most recent call last):\n",
            "  File \"/usr/local/lib/python3.10/dist-packages/sklearn/model_selection/_validation.py\", line 888, in _fit_and_score\n",
            "    estimator.fit(X_train, y_train, **fit_params)\n",
            "  File \"/usr/local/lib/python3.10/dist-packages/sklearn/base.py\", line 1473, in wrapper\n",
            "    return fit_method(estimator, *args, **kwargs)\n",
            "  File \"/usr/local/lib/python3.10/dist-packages/sklearn/linear_model/_logistic.py\", line 1194, in fit\n",
            "    solver = _check_solver(self.solver, self.penalty, self.dual)\n",
            "  File \"/usr/local/lib/python3.10/dist-packages/sklearn/linear_model/_logistic.py\", line 67, in _check_solver\n",
            "    raise ValueError(\n",
            "ValueError: Solver lbfgs supports only 'l2' or None penalties, got l1 penalty.\n",
            "\n",
            "--------------------------------------------------------------------------------\n",
            "60 fits failed with the following error:\n",
            "Traceback (most recent call last):\n",
            "  File \"/usr/local/lib/python3.10/dist-packages/sklearn/model_selection/_validation.py\", line 888, in _fit_and_score\n",
            "    estimator.fit(X_train, y_train, **fit_params)\n",
            "  File \"/usr/local/lib/python3.10/dist-packages/sklearn/base.py\", line 1473, in wrapper\n",
            "    return fit_method(estimator, *args, **kwargs)\n",
            "  File \"/usr/local/lib/python3.10/dist-packages/sklearn/linear_model/_logistic.py\", line 1194, in fit\n",
            "    solver = _check_solver(self.solver, self.penalty, self.dual)\n",
            "  File \"/usr/local/lib/python3.10/dist-packages/sklearn/linear_model/_logistic.py\", line 67, in _check_solver\n",
            "    raise ValueError(\n",
            "ValueError: Solver sag supports only 'l2' or None penalties, got l1 penalty.\n",
            "\n",
            "  warnings.warn(some_fits_failed_message, FitFailedWarning)\n",
            "/usr/local/lib/python3.10/dist-packages/sklearn/model_selection/_search.py:1103: UserWarning: One or more of the test scores are non-finite: [       nan        nan 0.79724948        nan 0.79708143 0.84430186\n",
            " 0.84467457 0.84559442 0.84455188 0.84481344        nan        nan\n",
            " 0.79724948        nan 0.79708143 0.84430186 0.84467457 0.84559442\n",
            " 0.84468076 0.8448096         nan        nan 0.79724948        nan\n",
            " 0.79671308 0.84430186 0.84467457 0.84559442 0.84455188 0.8448096\n",
            "        nan        nan 0.88894543        nan 0.88894543 0.89454771\n",
            " 0.89467557 0.8949275  0.89504875 0.89480325        nan        nan\n",
            " 0.88894543        nan 0.88894543 0.89454771 0.89467557 0.8949275\n",
            " 0.89504875 0.89480325        nan        nan 0.88894543        nan\n",
            " 0.88881928 0.89454771 0.89467557 0.8949275  0.89504875 0.8949275\n",
            "        nan        nan 0.90852986        nan 0.91141889 0.91640887\n",
            " 0.91628403 0.91716133 0.91703529 0.91729402        nan        nan\n",
            " 0.90840398        nan 0.9117928  0.91640887 0.91628403 0.91716133\n",
            " 0.91703529 0.91741864        nan        nan 0.90815356        nan\n",
            " 0.91041135 0.91640887 0.91628403 0.91716133 0.91703529 0.91716718\n",
            "        nan        nan 0.90705445        nan 0.91869124 0.92068085\n",
            " 0.92182339 0.91980527 0.92043398 0.92169601        nan        nan\n",
            " 0.90655393        nan 0.9175681  0.92068085 0.92182339 0.91980527\n",
            " 0.91993229 0.92093812        nan        nan 0.90705437        nan\n",
            " 0.91719005 0.92068085 0.92182339 0.91980527 0.92005692 0.92094093]\n",
            "  warnings.warn(\n",
            "/usr/local/lib/python3.10/dist-packages/sklearn/linear_model/_sag.py:349: ConvergenceWarning: The max_iter was reached which means the coef_ did not converge\n",
            "  warnings.warn(\n"
          ]
        },
        {
          "name": "stdout",
          "output_type": "stream",
          "text": [
            "Mejores hiperparámetros: {'C': 100, 'max_iter': 100, 'penalty': 'l2', 'solver': 'lbfgs'}\n",
            "              precision    recall  f1-score   support\n",
            "\n",
            " non-suicide       0.92      0.93      0.92       978\n",
            "     suicide       0.93      0.92      0.92      1022\n",
            "\n",
            "    accuracy                           0.92      2000\n",
            "   macro avg       0.92      0.92      0.92      2000\n",
            "weighted avg       0.92      0.92      0.92      2000\n",
            "\n",
            "Accuracy: 0.9235\n",
            "Precision: 0.9236205384063819\n",
            "Recall: 0.9235\n",
            "F1-Score: 0.9235083211245164\n",
            "Confusion Matrix:\n",
            " [[909  69]\n",
            " [ 84 938]]\n"
          ]
        }
      ],
      "source": [
        "param_grid = {\n",
        "    'C': [0.1, 1, 10, 100],\n",
        "    'penalty': ['l1', 'l2'],\n",
        "    'solver': ['newton-cg', 'lbfgs', 'liblinear', 'sag', 'saga'],\n",
        "    'max_iter': [100, 200, 300]}\n",
        "\n",
        "from sklearn.model_selection import GridSearchCV\n",
        "\n",
        "grid_search = GridSearchCV(LogisticRegression(), param_grid, cv=5, scoring='f1_weighted', n_jobs=-1)\n",
        "grid_search.fit(X_tfidf_train, train_data['class'])\n",
        "\n",
        "\n",
        "# Entrenamiento del modelo\n",
        "model = LogisticRegression(penalty='l2', C=10, solver='saga', max_iter=200)\n",
        "model.fit(X_tfidf_train, train_data['class'])\n",
        "\n",
        "best_params = grid_search.best_params_\n",
        "print(\"Mejores hiperparámetros:\", best_params)\n",
        "\n",
        "model = LogisticRegression(**best_params)\n",
        "model.fit(X_tfidf_train, train_data['class'])\n",
        "\n",
        "# Evaluación del modelo\n",
        "predictions_tfidf = model.predict(X_tfidf_test)\n",
        "accuracy_tfidf = accuracy_score(test_data['class'], predictions_tfidf)\n",
        "precision_tfidf = precision_score(test_data['class'], predictions_tfidf, average='weighted')\n",
        "recall_tfidf = recall_score(test_data['class'], predictions_tfidf, average='weighted')\n",
        "f1_tfidf = f1_score(test_data['class'], predictions_tfidf, average='weighted')\n",
        "confusion_mat_tfidf = confusion_matrix(test_data['class'], predictions_tfidf)\n",
        "\n",
        "print(classification_report(test_data['class'], predictions_tfidf))\n",
        "\n",
        "print(\"Accuracy:\", accuracy_tfidf)\n",
        "print(\"Precision:\", precision_tfidf)\n",
        "print(\"Recall:\", recall_tfidf)\n",
        "print(\"F1-Score:\", f1_tfidf)\n",
        "print(\"Confusion Matrix:\\n\", confusion_mat_tfidf)"
      ]
    },
    {
      "cell_type": "code",
      "execution_count": null,
      "metadata": {
        "colab": {
          "base_uri": "https://localhost:8080/"
        },
        "id": "M_NAQHFPPbMb",
        "outputId": "784513d7-32ba-49fb-ac37-cc22ea81aa0f"
      },
      "outputs": [
        {
          "name": "stdout",
          "output_type": "stream",
          "text": [
            "Número de características en TF-IDF: 90902\n"
          ]
        }
      ],
      "source": [
        "print(\"Número de características en TF-IDF:\", X_tfidf_train.shape[1])"
      ]
    }
  ],
  "metadata": {
    "accelerator": "GPU",
    "colab": {
      "gpuType": "T4",
      "provenance": []
    },
    "kernelspec": {
      "display_name": "Python 3",
      "name": "python3"
    },
    "language_info": {
      "name": "python"
    }
  },
  "nbformat": 4,
  "nbformat_minor": 0
}
